{
 "cells": [
  {
   "cell_type": "code",
   "execution_count": 1,
   "id": "d9f946c5-d737-4705-9508-aee97cf691c8",
   "metadata": {},
   "outputs": [
    {
     "name": "stdout",
     "output_type": "stream",
     "text": [
      "Hallo world\n",
      "10 20 104 0 -100\n",
      "10.4 45.6 156.9 100.0003\n",
      "<class 'float'>\n",
      "1 привет abc\n",
      "<class 'str'>\n",
      "a 1 T\n",
      "<class 'str'>\n"
     ]
    }
   ],
   "source": [
    "print('Hallo world')\n",
    "# integer\n",
    "print(10,20,104,0,-100)\n",
    "\n",
    "\n",
    "# float\n",
    "print(10.4,45.6,156.9,100.0003)\n",
    "print(type(10.2))\n",
    "\n",
    "#strig\n",
    "print('1',\"привет\",'abc')\n",
    "print(type('abc'))\n",
    "\n",
    "#char\n",
    "print('a','1','T')\n",
    "print(type('a'))\n"
   ]
  },
  {
   "cell_type": "code",
   "execution_count": null,
   "id": "f9bae677-0ce1-4f19-a651-681230304343",
   "metadata": {},
   "outputs": [],
   "source": [
    "#1 сложение\n",
    "print(10+6)"
   ]
  },
  {
   "cell_type": "code",
   "execution_count": null,
   "id": "65f971c8-abdf-4320-8ae0-42bebd70c889",
   "metadata": {},
   "outputs": [],
   "source": [
    "#2 вычитание\n",
    "print(10-6)"
   ]
  },
  {
   "cell_type": "code",
   "execution_count": null,
   "id": "5d85986c-fa15-4fa8-bff6-a57bd8eaa230",
   "metadata": {},
   "outputs": [],
   "source": [
    "#3 деление\n",
    "print(10/2)"
   ]
  },
  {
   "cell_type": "code",
   "execution_count": 12,
   "id": "fb121c77-d3e7-4820-a702-128a21d2cc86",
   "metadata": {},
   "outputs": [
    {
     "name": "stdout",
     "output_type": "stream",
     "text": [
      "60\n"
     ]
    }
   ],
   "source": [
    "#4 умножение\n",
    "print(10*6)\n"
   ]
  },
  {
   "cell_type": "code",
   "execution_count": 14,
   "id": "080fd6d9-5957-4b05-b293-d1761ec1dd31",
   "metadata": {},
   "outputs": [
    {
     "name": "stdout",
     "output_type": "stream",
     "text": [
      "5\n"
     ]
    }
   ],
   "source": [
    "#5 целая часть от деления-div\n",
    "print(10//2)"
   ]
  },
  {
   "cell_type": "code",
   "execution_count": 16,
   "id": "325337c5-3846-4598-852f-e9e9b7437492",
   "metadata": {},
   "outputs": [
    {
     "name": "stdout",
     "output_type": "stream",
     "text": [
      "2\n"
     ]
    }
   ],
   "source": [
    "#6 Остаток от деления-mod\n",
    "print(10%4)"
   ]
  },
  {
   "cell_type": "code",
   "execution_count": null,
   "id": "2fa95098-8602-4c8d-b4e3-f264770d251f",
   "metadata": {},
   "outputs": [],
   "source": [
    "#7 возведение в степень\n",
    "print(22*22*22)"
   ]
  },
  {
   "cell_type": "code",
   "execution_count": 22,
   "id": "d0a2c5a3-b29d-4f19-bc4f-c6c1ff86a368",
   "metadata": {},
   "outputs": [
    {
     "name": "stdout",
     "output_type": "stream",
     "text": [
      "True 1 False 0\n",
      "<class 'bool'>\n"
     ]
    }
   ],
   "source": [
    "# логический\n",
    "print(True,1,False,0)\n",
    "print(type(True))"
   ]
  },
  {
   "cell_type": "code",
   "execution_count": 24,
   "id": "1cdc86a0-bfcf-44a7-b516-c7b45e600e79",
   "metadata": {},
   "outputs": [
    {
     "name": "stdout",
     "output_type": "stream",
     "text": [
      "<class 'int'>\n"
     ]
    }
   ],
   "source": [
    "# int+int=int\n",
    "print(type(1+5))"
   ]
  },
  {
   "cell_type": "code",
   "execution_count": 26,
   "id": "1a110aab-58a1-4f26-a690-aa8de02125a3",
   "metadata": {},
   "outputs": [
    {
     "name": "stdout",
     "output_type": "stream",
     "text": [
      "<class 'float'>\n"
     ]
    }
   ],
   "source": [
    "# int+float=float\n",
    "print(type(1+1.5))"
   ]
  },
  {
   "cell_type": "code",
   "execution_count": 29,
   "id": "cbe5aa2b-5e17-4c12-9f78-d7e56ccd45ff",
   "metadata": {},
   "outputs": [
    {
     "name": "stdout",
     "output_type": "stream",
     "text": [
      "3.5\n"
     ]
    }
   ],
   "source": [
    "# int*float=float\n",
    "print(1*3.5)"
   ]
  },
  {
   "cell_type": "code",
   "execution_count": 35,
   "id": "41d30398-6416-420c-99f0-9a4be1c538c7",
   "metadata": {},
   "outputs": [
    {
     "name": "stdout",
     "output_type": "stream",
     "text": [
      "<class 'int'>\n"
     ]
    }
   ],
   "source": [
    "#int/int=float\n",
    "print(type(25/5))"
   ]
  },
  {
   "cell_type": "code",
   "execution_count": null,
   "id": "9cb1c810-6b74-4259-a3a0-73075fa7c1c1",
   "metadata": {},
   "outputs": [],
   "source": [
    "#int//int=int\n",
    "print(type(25//5))"
   ]
  },
  {
   "cell_type": "code",
   "execution_count": 39,
   "id": "2028b4d9-468b-4241-ab65-5cb76906dd56",
   "metadata": {},
   "outputs": [
    {
     "name": "stdout",
     "output_type": "stream",
     "text": [
      "2\n"
     ]
    }
   ],
   "source": [
    "print(True+1)"
   ]
  },
  {
   "cell_type": "code",
   "execution_count": 59,
   "id": "9965f8a4-c585-4a8f-9e08-cb7312ed6176",
   "metadata": {},
   "outputs": [
    {
     "ename": "SyntaxError",
     "evalue": "invalid syntax (2074822949.py, line 1)",
     "output_type": "error",
     "traceback": [
      "\u001b[1;36m  Cell \u001b[1;32mIn[59], line 1\u001b[1;36m\u001b[0m\n\u001b[1;33m    message'hello!'\u001b[0m\n\u001b[1;37m           ^\u001b[0m\n\u001b[1;31mSyntaxError\u001b[0m\u001b[1;31m:\u001b[0m invalid syntax\n"
     ]
    }
   ],
   "source": [
    "message\"hello!\"\n",
    "print(message)\n",
    "message=\"world\"\n",
    "print(message)"
   ]
  },
  {
   "cell_type": "code",
   "execution_count": null,
   "id": "39ffafbb-fd08-4ecb-9825-bf97f90eb2dd",
   "metadata": {},
   "outputs": [],
   "source": [
    "n=10\n",
    "b=1.1\n",
    "s=\"привет\"\n",
    "f=True\n",
    "print=(n,b,s,f,sep=', ')"
   ]
  },
  {
   "cell_type": "code",
   "execution_count": null,
   "id": "612ad123-58b4-4133-b133-723d60e0759a",
   "metadata": {},
   "outputs": [],
   "source": [
    "a=14+(25-5)/4\n",
    "print(a)"
   ]
  },
  {
   "cell_type": "code",
   "execution_count": null,
   "id": "957e0a72-8490-45cc-b125-56893723e309",
   "metadata": {},
   "outputs": [],
   "source": [
    "Join_age=20\n",
    "mom_age=46\n",
    "paul=(Join_age+mom_age)/6\n",
    "print(int(Paul),\"лет Паулю\")"
   ]
  },
  {
   "cell_type": "code",
   "execution_count": 67,
   "id": "b8dbb49e-e307-4dbc-ae94-3a6da0cb689d",
   "metadata": {},
   "outputs": [
    {
     "name": "stdin",
     "output_type": "stream",
     "text": [
      "введите первое число: 1488\n"
     ]
    },
    {
     "ename": "TypeError",
     "evalue": "'a' is an invalid keyword argument for int()",
     "output_type": "error",
     "traceback": [
      "\u001b[1;31m---------------------------------------------------------------------------\u001b[0m",
      "\u001b[1;31mTypeError\u001b[0m                                 Traceback (most recent call last)",
      "Cell \u001b[1;32mIn[67], line 1\u001b[0m\n\u001b[1;32m----> 1\u001b[0m c\u001b[38;5;241m=\u001b[39m\u001b[38;5;28mint\u001b[39m(a\u001b[38;5;241m=\u001b[39m\u001b[38;5;28minput\u001b[39m(\u001b[38;5;124m'\u001b[39m\u001b[38;5;124mвведите первое число:\u001b[39m\u001b[38;5;124m'\u001b[39m))\u001b[38;5;241m+\u001b[39m\u001b[38;5;28mint\u001b[39m(b\u001b[38;5;241m=\u001b[39m\u001b[38;5;28minput\u001b[39m(\u001b[38;5;124m'\u001b[39m\u001b[38;5;124mвведите второе число:\u001b[39m\u001b[38;5;124m'\u001b[39m))\n\u001b[0;32m      2\u001b[0m \u001b[38;5;28mprint\u001b[39m(c)\n",
      "\u001b[1;31mTypeError\u001b[0m: 'a' is an invalid keyword argument for int()"
     ]
    }
   ],
   "source": [
    "\n",
    "c=int(a=input('введите первое число:'))+int(b=input('введите второе число:'))\n",
    "print(c)"
   ]
  },
  {
   "cell_type": "code",
   "execution_count": null,
   "id": "d7c816b2-cfac-46ca-9993-874762e9a56b",
   "metadata": {},
   "outputs": [],
   "source": []
  }
 ],
 "metadata": {
  "kernelspec": {
   "display_name": "Python 3 (ipykernel)",
   "language": "python",
   "name": "python3"
  },
  "language_info": {
   "codemirror_mode": {
    "name": "ipython",
    "version": 3
   },
   "file_extension": ".py",
   "mimetype": "text/x-python",
   "name": "python",
   "nbconvert_exporter": "python",
   "pygments_lexer": "ipython3",
   "version": "3.12.7"
  }
 },
 "nbformat": 4,
 "nbformat_minor": 5
}
