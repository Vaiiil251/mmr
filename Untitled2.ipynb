{
 "cells": [
  {
   "cell_type": "code",
   "execution_count": 11,
   "id": "25c40775-adb6-4059-88f9-25123b98828e",
   "metadata": {},
   "outputs": [
    {
     "name": "stdout",
     "output_type": "stream",
     "text": [
      "51\n"
     ]
    }
   ],
   "source": [
    "x=-10\n",
    "if(x>0):\n",
    "    x=x*10\n",
    "else:\n",
    "    x=x*(-5)+1\n",
    "print(x)"
   ]
  },
  {
   "cell_type": "code",
   "execution_count": 23,
   "id": "0a6ca1d2-f149-437d-8ee1-ad0d35f9f309",
   "metadata": {},
   "outputs": [
    {
     "name": "stdout",
     "output_type": "stream",
     "text": [
      "это слон!\n",
      "остальные строки\n",
      "выполняются в любом случае\n",
      "случае\n"
     ]
    }
   ],
   "source": [
    "name='слон'\n",
    "if(name=='слон'):\n",
    "    print('это слон!')\n",
    "else:\n",
    "    print('это другой слон')\n",
    "print('остальные строки')\n",
    "print('выполняются в любом случае')\n",
    "print('случае')"
   ]
  },
  {
   "cell_type": "code",
   "execution_count": 40,
   "id": "ec15162f-a424-4501-aa60-6bd675f71fe9",
   "metadata": {},
   "outputs": [
    {
     "name": "stdout",
     "output_type": "stream",
     "text": [
      "Равно нулю\n"
     ]
    }
   ],
   "source": [
    "x=0\n",
    "if(x>0):\n",
    "    print('Положительное')\n",
    "elif (x<0):\n",
    "    print('Отрицательное')\n",
    "else:\n",
    "    print('Равно нулю')"
   ]
  },
  {
   "cell_type": "code",
   "execution_count": 46,
   "id": "8998d41f-5051-48ec-bb12-9113f0b3e357",
   "metadata": {},
   "outputs": [
    {
     "name": "stdin",
     "output_type": "stream",
     "text": [
      " капибара\n"
     ]
    },
    {
     "name": "stdout",
     "output_type": "stream",
     "text": [
      "-----капибара-------\n"
     ]
    }
   ],
   "source": [
    "smp=input()\n",
    "print('-----'+smp+'-------')"
   ]
  },
  {
   "cell_type": "code",
   "execution_count": 50,
   "id": "15048852-59bc-4750-9fb7-17604b3a150d",
   "metadata": {},
   "outputs": [
    {
     "name": "stdin",
     "output_type": "stream",
     "text": [
      " 1488\n",
      " 1488\n"
     ]
    },
    {
     "name": "stdout",
     "output_type": "stream",
     "text": [
      "2976\n"
     ]
    }
   ],
   "source": [
    "a1=int(input())\n",
    "a2=int(input())\n",
    "print(a1+a2)"
   ]
  },
  {
   "cell_type": "code",
   "execution_count": 52,
   "id": "77ccf3e7-c5ab-4695-a44f-b61e143cf4d0",
   "metadata": {},
   "outputs": [
    {
     "name": "stdin",
     "output_type": "stream",
     "text": [
      " 10.25\n",
      " 14.88\n"
     ]
    },
    {
     "name": "stdout",
     "output_type": "stream",
     "text": [
      "25.130000000000003\n"
     ]
    }
   ],
   "source": [
    "b1=float(input())\n",
    "b2=float(input())\n",
    "print(b1+b2)"
   ]
  },
  {
   "cell_type": "code",
   "execution_count": 54,
   "id": "cf57138e-ae1e-461d-ada1-6c4202618cd1",
   "metadata": {},
   "outputs": [
    {
     "name": "stdout",
     "output_type": "stream",
     "text": [
      "True\n",
      "False\n",
      "True\n",
      "True\n",
      "False\n"
     ]
    }
   ],
   "source": [
    "x=5\n",
    "y=0\n",
    "print(x>y)\n",
    "print(x==y)\n",
    "print(x==x)\n",
    "print(x>=y)\n",
    "print(x<=y)"
   ]
  },
  {
   "cell_type": "code",
   "execution_count": 58,
   "id": "a93d4e54-c558-4c42-aaf6-35c3b8969c73",
   "metadata": {},
   "outputs": [
    {
     "name": "stdout",
     "output_type": "stream",
     "text": [
      "True\n",
      "True\n",
      "False\n",
      "True\n"
     ]
    }
   ],
   "source": [
    "# and - логическое И ( * )\n",
    "#истина И истина=истина\n",
    "print(True and True)#1*1\n",
    "print((x>y)and (x==x))\n",
    "print(True and False)#1*0\n",
    "print((x>y)and (x==x))"
   ]
  },
  {
   "cell_type": "code",
   "execution_count": 60,
   "id": "0aa74b11-f176-4153-b7a1-fa2bafed6905",
   "metadata": {},
   "outputs": [
    {
     "name": "stdout",
     "output_type": "stream",
     "text": [
      "True\n",
      "True\n",
      "True\n",
      "True\n",
      "False\n",
      "True\n"
     ]
    }
   ],
   "source": [
    "# or - логичиское или\n",
    "print(True or True)#1+1\n",
    "print((x>y)or (x==x))\n",
    "print(True or False)#1+0=1\n",
    "print((x>y)or (x==x))\n",
    "print(False or False)#0+0\n",
    "print((x>y)or (x==x))#ложь+ложь=ложь"
   ]
  },
  {
   "cell_type": "code",
   "execution_count": 66,
   "id": "8c24b009-c377-4636-ab63-815319f43a7d",
   "metadata": {},
   "outputs": [
    {
     "name": "stdout",
     "output_type": "stream",
     "text": [
      "False\n",
      "True\n",
      "True\n",
      "False\n"
     ]
    }
   ],
   "source": [
    "# not - атрицание\n",
    "print(not True)#не 1 = 0\n",
    "print(not False)#не 0 = 1\n",
    "print(not(x<y))#не (5<0)\n",
    "print(not(x==x))#не (5=5)"
   ]
  },
  {
   "cell_type": "code",
   "execution_count": 68,
   "id": "0b1ef1c8-8070-4026-9ce1-b5de6bdcf1f5",
   "metadata": {},
   "outputs": [
    {
     "name": "stdin",
     "output_type": "stream",
     "text": [
      " 1\n"
     ]
    },
    {
     "name": "stdout",
     "output_type": "stream",
     "text": [
      "зима\n"
     ]
    }
   ],
   "source": [
    "m=int(input())\n",
    "if (m>=1 and m<=2) or m==12:\n",
    "    print('зима')\n",
    "elif (m>=3 and m<=5):\n",
    "    print('весна')\n",
    "elif (m>=6 and m<=8):\n",
    "    print('лето')\n",
    "elif (m>=9 and m<=11):\n",
    "    print('осень')\n",
    "else:\n",
    "    print('Такого месяца нет')"
   ]
  },
  {
   "cell_type": "code",
   "execution_count": null,
   "id": "26497867-aaf0-46f9-a38f-1ca6bce2feb3",
   "metadata": {},
   "outputs": [],
   "source": []
  }
 ],
 "metadata": {
  "kernelspec": {
   "display_name": "Python 3 (ipykernel)",
   "language": "python",
   "name": "python3"
  },
  "language_info": {
   "codemirror_mode": {
    "name": "ipython",
    "version": 3
   },
   "file_extension": ".py",
   "mimetype": "text/x-python",
   "name": "python",
   "nbconvert_exporter": "python",
   "pygments_lexer": "ipython3",
   "version": "3.12.7"
  }
 },
 "nbformat": 4,
 "nbformat_minor": 5
}
